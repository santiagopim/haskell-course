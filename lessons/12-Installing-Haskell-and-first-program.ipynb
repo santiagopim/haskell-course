{
 "cells": [
  {
   "cell_type": "markdown",
   "metadata": {
    "slideshow": {
     "slide_type": "slide"
    }
   },
   "source": [
    "# Installing Haskell and creating our first program"
   ]
  },
  {
   "cell_type": "markdown",
   "metadata": {
    "slideshow": {
     "slide_type": "skip"
    }
   },
   "source": [
    "We're starting to get used to coding in Haskell, and we're ready to get serious. In the next series of lessons, we'll learn how to manage our development environment, create Haskell Projects, deal with errors, and solve problems in general. Basic skills every Haskell developer must have.\n",
    "\n",
    "This is the first lesson in the series. And it's a short one. Where we're going to set up our local development environment and compile our first program."
   ]
  },
  {
   "cell_type": "markdown",
   "metadata": {
    "slideshow": {
     "slide_type": "slide"
    }
   },
   "source": [
    "## Outline\n",
    "\n",
    "* Installing Haskell\n",
    "  - Installing GHCup\n",
    "  - Installing GHC, Cabal, Stack, and HLS with GHCup\n",
    "  - Installing VSCode Extensions\n",
    "* Creating our first program\n",
    "  - Writing the simplest Haskell program\n",
    "  - Compiling and running our program"
   ]
  },
  {
   "cell_type": "markdown",
   "metadata": {
    "slideshow": {
     "slide_type": "slide"
    }
   },
   "source": [
    "## Installing Haskell Tooling (On all operating systems)"
   ]
  },
  {
   "cell_type": "markdown",
   "metadata": {},
   "source": [
    "Feel free to ignore this section if you don't want to install anything locally and want to keep using the online dev environment."
   ]
  },
  {
   "cell_type": "markdown",
   "metadata": {},
   "source": [
    "We need a way to transform our Haskell source code into native code that our computer is able to run. And for that, we need a compiler. The most widely used Haskell compier is GHC. Let's learn how to install and use it."
   ]
  },
  {
   "cell_type": "markdown",
   "metadata": {},
   "source": [
    "GHCi (the interactive environment) already comes with GHC. There are a few different ways to install GHC. We could download it directly from its website. But there are better options. For example:"
   ]
  },
  {
   "cell_type": "markdown",
   "metadata": {},
   "source": [
    "- The [Stack](https://docs.haskellstack.org/en/stable/ ) tool."
   ]
  },
  {
   "cell_type": "markdown",
   "metadata": {},
   "source": [
    "- The [GHCup](https://www.haskell.org/ghcup/#) comand line tool"
   ]
  },
  {
   "cell_type": "markdown",
   "metadata": {},
   "source": [
    "We'll use GHCup because Stack does more than just installing the Haskell tooling and I want to go step by step. But feel free to use Stack if you prefer it.\n",
    "\n",
    "So, to install our tools, go to the [GHCup website](https://www.haskell.org/ghcup/#) and run the command it shows you on the terminal.\n",
    "\n",
    "You can click on \"Show all platforms\" if your OS is not shown.\n",
    "\n",
    "Once you run the command, it will ask you a few questions about what do you want to install. Make sure to have installed—at least—GHC, Haskell Language Server, and cabal-install."
   ]
  },
  {
   "cell_type": "markdown",
   "metadata": {},
   "source": [
    "And that's it! We have everything we need! Asuming, of course, that you have a text editor. And Mirosoft Word doesn't count.\n",
    "\n",
    "If you don't have one, install [VSCode](https://code.visualstudio.com/). It's the most widely used and very friendly.\n",
    "\n",
    "If VSCode ofers to install extensions, say yes. Else, search for \"Haskell\" in the extensions pan and isntall the two most downloaded ones."
   ]
  },
  {
   "cell_type": "markdown",
   "metadata": {},
   "source": [
    "OK! Enough with the setup! Let's compile our first program!"
   ]
  },
  {
   "cell_type": "markdown",
   "metadata": {},
   "source": [
    "### Compiling Haskell programs"
   ]
  },
  {
   "cell_type": "markdown",
   "metadata": {},
   "source": [
    "In this section, we will show how you can compile simple Haskell files, later we will show how you can compile a more complex project using Cabal."
   ]
  },
  {
   "cell_type": "markdown",
   "metadata": {},
   "source": [
    "In the previous lesson, we saw one of the shortest Haskell programs you could write. This one:"
   ]
  },
  {
   "cell_type": "code",
   "execution_count": 1,
   "metadata": {},
   "outputs": [],
   "source": [
    "main :: IO ()\n",
    "main = putStrLn \"Hello World!\""
   ]
  },
  {
   "cell_type": "markdown",
   "metadata": {},
   "source": [
    "A simple program that prints \"Hello World\" on the standard output. Remember that all your programs have to have an action called main that functions as the entry point of your program.\n",
    "\n",
    "OK! Let's compile this bad boy!"
   ]
  },
  {
   "cell_type": "markdown",
   "metadata": {},
   "source": [
    "Because we're on this Jupyter Notebook, we'll have to use some command line tools to make it happen. But you can just write a file with the `.hs` extension and compile it using `ghc` (without the `:!` prepended) like I show at the end."
   ]
  },
  {
   "cell_type": "markdown",
   "metadata": {},
   "source": [
    "So. first, we'll save the main action in a file with this command:"
   ]
  },
  {
   "cell_type": "code",
   "execution_count": null,
   "metadata": {
    "scrolled": true
   },
   "outputs": [
    {
     "data": {
      "text/plain": []
     },
     "metadata": {},
     "output_type": "display_data"
    }
   ],
   "source": [
    ":!echo \"main = putStrLn \\\"Hello World!\\\"\" >> hello.hs"
   ]
  },
  {
   "cell_type": "markdown",
   "metadata": {},
   "source": [
    "If we look for a haskell file, we see that it's there:"
   ]
  },
  {
   "cell_type": "code",
   "execution_count": null,
   "metadata": {
    "scrolled": true
   },
   "outputs": [
    {
     "data": {
      "text/plain": [
       "hello.hs"
      ]
     },
     "metadata": {},
     "output_type": "display_data"
    }
   ],
   "source": [
    ":!ls | grep 'hello'"
   ]
  },
  {
   "cell_type": "markdown",
   "metadata": {},
   "source": [
    "And, if we check its contents, we find only the main action:"
   ]
  },
  {
   "cell_type": "code",
   "execution_count": null,
   "metadata": {},
   "outputs": [
    {
     "data": {
      "text/plain": [
       "main = putStrLn \"Hello World!\""
      ]
     },
     "metadata": {},
     "output_type": "display_data"
    }
   ],
   "source": [
    ":!cat hello.hs"
   ]
  },
  {
   "cell_type": "markdown",
   "metadata": {},
   "source": [
    "Ok, let's compile it! \n",
    "\n",
    "To compile a file, the only thing we need to do is to pass the file path as an argument to the ghc command line tool:"
   ]
  },
  {
   "cell_type": "code",
   "execution_count": null,
   "metadata": {
    "scrolled": false
   },
   "outputs": [
    {
     "data": {
      "text/plain": [
       "[1 of 1] Compiling Main             ( hello.hs, hello.o )\n",
       "Linking hello ..."
      ]
     },
     "metadata": {},
     "output_type": "display_data"
    }
   ],
   "source": [
    ":!ghc hello.hs"
   ]
  },
  {
   "cell_type": "markdown",
   "metadata": {},
   "source": [
    "Now, if we look for files named outSourcecode, we find three new files:"
   ]
  },
  {
   "cell_type": "code",
   "execution_count": null,
   "metadata": {
    "scrolled": true
   },
   "outputs": [
    {
     "data": {
      "text/plain": [
       "hello\n",
       "hello.hi\n",
       "hello.hs\n",
       "hello.o"
      ]
     },
     "metadata": {},
     "output_type": "display_data"
    }
   ],
   "source": [
    ":!ls | grep 'hello'"
   ]
  },
  {
   "cell_type": "markdown",
   "metadata": {},
   "source": [
    "- `hello.hs` is the file we created with the source code.\n",
    "- `hello.o` is an object file and `hello.hi` is an interface file that will link the object file to the libraries that come with GHC to produce an executable. We don't really care about those right now.\n",
    "- The one that we care about is `hello` (called `hello.exe` if we compile it on a Windows machine). This one is the acutal executable. A binary that we can run like like any other program.\n",
    "\n",
    "So, let's run it!:"
   ]
  },
  {
   "cell_type": "code",
   "execution_count": null,
   "metadata": {},
   "outputs": [
    {
     "data": {
      "text/plain": [
       "Hello World!"
      ]
     },
     "metadata": {},
     "output_type": "display_data"
    }
   ],
   "source": [
    ":! ./hello"
   ]
  },
  {
   "cell_type": "markdown",
   "metadata": {},
   "source": [
    "And boom! We compiled and run our own Haskell program! Congratulations!"
   ]
  },
  {
   "cell_type": "markdown",
   "metadata": {},
   "source": [
    "Of course, because GHCi came with GHC, we can also load the `hello.hs` file to GHCI (`ghci`) and play arround with the main function."
   ]
  },
  {
   "cell_type": "markdown",
   "metadata": {},
   "source": [
    "<div class=\"alert alert-block alert-info\">\n",
    "    GHCi the Haskell REPL allows you to load a Haskell file with the <code>:l</code> command. There, it is not relevant whether the file has a main function or not. Once the file is loaded into GHCi you can call any of the functions or types defined in the file and test them if they work as you expected. If you load a <code>main.hs</code> file into GHCi that imports some user-defined modules, they will also be included as in the compilation process.\n",
    "</div>"
   ]
  },
  {
   "cell_type": "markdown",
   "metadata": {},
   "source": [
    "We've been coding in Haskell for a while now. But everything has been quite simple and short. That's why, if you've been doing your homework, we've been always writting our whole code in a single file.\n",
    "\n",
    "But what if we're making a more complex application? Like a website, a game, or a blockchain? How many thousands of unreadable code lines would that single file have? The naive solution is to split it into a bunch of files. But that stil doesn't solve many of problems we would have. That's why we use modules."
   ]
  },
  {
   "cell_type": "markdown",
   "metadata": {},
   "source": [
    "## That's it for today!"
   ]
  }
 ],
 "metadata": {
  "celltoolbar": "Slideshow",
  "kernelspec": {
   "display_name": "Haskell",
   "language": "haskell",
   "name": "haskell"
  },
  "language_info": {
   "codemirror_mode": "ihaskell",
   "file_extension": ".hs",
   "mimetype": "text/x-haskell",
   "name": "haskell",
   "pygments_lexer": "Haskell",
   "version": "8.10.7"
  }
 },
 "nbformat": 4,
 "nbformat_minor": 4
}
